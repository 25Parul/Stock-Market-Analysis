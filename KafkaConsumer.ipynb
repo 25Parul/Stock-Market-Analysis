{
 "cells": [
  {
   "cell_type": "code",
   "execution_count": null,
   "id": "dbd873ea",
   "metadata": {},
   "outputs": [],
   "source": [
    "pip install s3fs"
   ]
  },
  {
   "cell_type": "code",
   "execution_count": null,
   "id": "a13c976c",
   "metadata": {},
   "outputs": [],
   "source": [
    "from kafka import KafkaConsumer\n",
    "from time import sleep\n",
    "from json import dumps,loads\n",
    "import json\n",
    "from s3fs import S3FileSystem"
   ]
  },
  {
   "cell_type": "code",
   "execution_count": 9,
   "id": "228b8d2c",
   "metadata": {},
   "outputs": [],
   "source": [
    "consumer = KafkaConsumer(\n",
    "    'first_topic',\n",
    "     bootstrap_servers=['18.222.249.119:9092'],\n",
    "    value_deserializer=lambda x: loads(x.decode('utf-8')))"
   ]
  },
  {
   "cell_type": "code",
   "execution_count": 11,
   "id": "59ab4d9d",
   "metadata": {
    "collapsed": true
   },
   "outputs": [
    {
     "name": "stdout",
     "output_type": "stream",
     "text": [
      "{'Index': 'N225', 'Date': '1987-02-25', 'Open': 20186.33008, 'High': 20186.33008, 'Low': 20186.33008, 'Close': 20186.33008, 'Adj Close': 20186.33008, 'Volume': 0.0, 'CloseUSD': 201.8633008}\n",
      "{'Index': 'GDAXI', 'Date': '1998-06-25', 'Open': 5822.709961, 'High': 5894.209961, 'Low': 5822.709961, 'Close': 5886.720215, 'Adj Close': 5886.720215, 'Volume': 0.0, 'CloseUSD': 7181.798662300001}\n",
      "{'Index': 'N225', 'Date': '1994-03-01', 'Open': 20052.60938, 'High': 20240.91992, 'Low': 20052.60938, 'Close': 20216.61914, 'Adj Close': 20216.61914, 'Volume': 0.0, 'CloseUSD': 202.1661914}\n",
      "{'Index': 'IXIC', 'Date': '1994-09-20', 'Open': 775.820007, 'High': 775.820007, 'Low': 766.73999, 'Close': 766.73999, 'Adj Close': 766.73999, 'Volume': 305630000.0, 'CloseUSD': 766.73999}\n",
      "{'Index': 'J203.JO', 'Date': '2016-08-05', 'Open': 52543.37109, 'High': 52776.58984, 'Low': 52310.28125, 'Close': 52348.35938, 'Adj Close': 52348.35938, 'Volume': 0.0, 'CloseUSD': 3664.3851566}\n",
      "{'Index': 'SSMI', 'Date': '2010-10-11', 'Open': 6387.100098, 'High': 6390.879883, 'Low': 6362.089844, 'Close': 6386.180176, 'Adj Close': 6386.180176, 'Volume': 33668500.0, 'CloseUSD': 7088.659995360001}\n",
      "{'Index': '000001.SS', 'Date': '2011-01-04', 'Open': 2825.329102, 'High': 2855.395996, 'Low': 2810.10791, 'Close': 2852.647949, 'Adj Close': 2852.647949, 'Volume': 110000.0, 'CloseUSD': 456.42367184000005}\n",
      "{'Index': 'IXIC', 'Date': '1973-12-17', 'Open': 89.129997, 'High': 89.129997, 'Low': 89.129997, 'Close': 89.129997, 'Adj Close': 89.129997, 'Volume': 0.0, 'CloseUSD': 89.129997}\n",
      "{'Index': 'SSMI', 'Date': '1997-02-11', 'Open': 4385.0, 'High': 4408.399902, 'Low': 4363.600098, 'Close': 4408.399902, 'Adj Close': 4408.399902, 'Volume': 0.0, 'CloseUSD': 4893.32389122}\n",
      "{'Index': 'GDAXI', 'Date': '1997-11-05', 'Open': 3806.820068, 'High': 3876.219971, 'Low': 3806.820068, 'Close': 3841.389893, 'Adj Close': 3841.389893, 'Volume': 0.0, 'CloseUSD': 4686.49566946}\n",
      "{'Index': 'GSPTSE', 'Date': '1999-08-17', 'Open': 7085.899902, 'High': 7085.899902, 'Low': 7041.299805, 'Close': 7053.0, 'Adj Close': 7053.0, 'Volume': 2095410000.0, 'CloseUSD': 5853.99}\n",
      "{'Index': 'N225', 'Date': '1969-09-09', 'Open': 1964.459961, 'High': 1964.459961, 'Low': 1964.459961, 'Close': 1964.459961, 'Adj Close': 1964.459961, 'Volume': 0.0, 'CloseUSD': 19.64459961}\n",
      "{'Index': 'NYA', 'Date': '1971-12-22', 'Open': 590.650024, 'High': 590.650024, 'Low': 590.650024, 'Close': 590.650024, 'Adj Close': 590.650024, 'Volume': 0.0, 'CloseUSD': 590.650024}\n",
      "{'Index': 'N225', 'Date': '1997-12-04', 'Open': 16566.63086, 'High': 16588.91016, 'Low': 16248.75, 'Close': 16306.79004, 'Adj Close': 16306.79004, 'Volume': 0.0, 'CloseUSD': 163.0679004}\n",
      "{'Index': 'GDAXI', 'Date': '2011-01-24', 'Open': 7080.779785, 'High': 7089.620117, 'Low': 7000.410156, 'Close': 7067.77002, 'Adj Close': 7067.77002, 'Volume': 121571600.0, 'CloseUSD': 8622.6794244}\n",
      "{'Index': 'NYA', 'Date': '1970-11-24', 'Open': 486.390015, 'High': 486.390015, 'Low': 486.390015, 'Close': 486.390015, 'Adj Close': 486.390015, 'Volume': 0.0, 'CloseUSD': 486.390015}\n",
      "{'Index': 'NSEI', 'Date': '2014-03-21', 'Open': 6515.200195, 'High': 6522.899902, 'Low': 6485.700195, 'Close': 6493.200195, 'Adj Close': 6493.200195, 'Volume': 189900.0, 'CloseUSD': 64.93200195}\n",
      "{'Index': 'SSMI', 'Date': '2005-12-23', 'Open': 7538.399902, 'High': 7543.700195, 'Low': 7484.799805, 'Close': 7497.799805, 'Adj Close': 7497.799805, 'Volume': 16493400.0, 'CloseUSD': 8322.55778355}\n",
      "{'Index': 'GSPTSE', 'Date': '1993-06-04', 'Open': 3881.399902, 'High': 3894.600098, 'Low': 3881.100098, 'Close': 3894.600098, 'Adj Close': 3894.600098, 'Volume': 75310000.0, 'CloseUSD': 3232.51808134}\n",
      "{'Index': '399001.SZ', 'Date': '2015-03-24', 'Open': 12841.15039, 'High': 12841.4502, 'Low': 12495.91992, 'Close': 12801.2002, 'Adj Close': 12801.05664, 'Volume': 599700.0, 'CloseUSD': 2048.192032}\n",
      "{'Index': 'GSPTSE', 'Date': '1996-02-07', 'Open': 5062.399902, 'High': 5066.799805, 'Low': 5020.0, 'Close': 5026.5, 'Adj Close': 5026.5, 'Volume': 140900000.0, 'CloseUSD': 4171.995}\n",
      "{'Index': 'N225', 'Date': '2010-07-21', 'Open': 9404.070313, 'High': 9404.070313, 'Low': 9230.839844, 'Close': 9278.830078, 'Adj Close': 9278.830078, 'Volume': 166600000.0, 'CloseUSD': 92.78830078}\n",
      "{'Index': 'HSI', 'Date': '2013-03-06', 'Open': 22750.58008, 'High': 22808.81055, 'Low': 22664.93945, 'Close': 22777.83984, 'Adj Close': 22777.83984, 'Volume': 1755859400.0, 'CloseUSD': 2961.1191792}\n",
      "{'Index': 'N225', 'Date': '1996-03-26', 'Open': 20943.42969, 'High': 21290.39063, 'Low': 20942.73047, 'Close': 21014.76953, 'Adj Close': 21014.76953, 'Volume': 0.0, 'CloseUSD': 210.1476953}\n",
      "{'Index': 'NYA', 'Date': '2009-02-05', 'Open': 5242.759766, 'High': 5360.040039, 'Low': 5170.759766, 'Close': 5326.009766, 'Adj Close': 5326.009766, 'Volume': 6624030000.0, 'CloseUSD': 5326.009766}\n",
      "{'Index': 'NYA', 'Date': '1973-06-01', 'Open': 580.070007, 'High': 580.070007, 'Low': 580.070007, 'Close': 580.070007, 'Adj Close': 580.070007, 'Volume': 0.0, 'CloseUSD': 580.070007}\n",
      "{'Index': 'J203.JO', 'Date': '2021-04-08', 'Open': 67160.42188, 'High': 67976.77344, 'Low': 66953.07813, 'Close': 67053.96875, 'Adj Close': 67053.96875, 'Volume': 0.0, 'CloseUSD': 4693.7778125}\n",
      "{'Index': 'N225', 'Date': '1986-07-25', 'Open': 18050.58984, 'High': 18050.58984, 'Low': 18050.58984, 'Close': 18050.58984, 'Adj Close': 18050.58984, 'Volume': 0.0, 'CloseUSD': 180.5058984}\n",
      "{'Index': 'IXIC', 'Date': '1992-03-31', 'Open': 600.349976, 'High': 605.159973, 'Low': 599.599976, 'Close': 603.77002, 'Adj Close': 603.77002, 'Volume': 192050000.0, 'CloseUSD': 603.77002}\n",
      "{'Index': 'NYA', 'Date': '2015-01-12', 'Open': 10712.65039, 'High': 10717.01953, 'Low': 10597.40039, 'Close': 10640.74023, 'Adj Close': 10640.74023, 'Volume': 3456460000.0, 'CloseUSD': 10640.74023}\n",
      "{'Index': 'GSPTSE', 'Date': '2012-07-26', 'Open': 11528.0, 'High': 11655.40039, 'Low': 11492.5, 'Close': 11639.79981, 'Adj Close': 11639.79981, 'Volume': 21468180000.0, 'CloseUSD': 9661.0338423}\n",
      "{'Index': 'TWII', 'Date': '1998-09-02', 'Open': 6450.419922, 'High': 6518.109863, 'Low': 6388.069824, 'Close': 6471.680176, 'Adj Close': 6471.655762, 'Volume': 0.0, 'CloseUSD': 258.86720704}\n",
      "{'Index': 'N225', 'Date': '1977-10-25', 'Open': 5134.149902, 'High': 5134.149902, 'Low': 5134.149902, 'Close': 5134.149902, 'Adj Close': 5134.149902, 'Volume': 0.0, 'CloseUSD': 51.34149902}\n",
      "{'Index': 'HSI', 'Date': '1997-09-08', 'Open': 14639.79981, 'High': 14910.0, 'Low': 14618.09961, 'Close': 14806.5, 'Adj Close': 14806.5, 'Volume': 0.0, 'CloseUSD': 1924.845}\n",
      "{'Index': 'N225', 'Date': '1966-01-21', 'Open': 1435.339966, 'High': 1435.339966, 'Low': 1435.339966, 'Close': 1435.339966, 'Adj Close': 1435.339966, 'Volume': 0.0, 'CloseUSD': 14.35339966}\n",
      "{'Index': 'N225', 'Date': '1989-10-18', 'Open': 35005.48828, 'High': 35152.03906, 'Low': 34991.67188, 'Close': 35107.55859, 'Adj Close': 35107.55859, 'Volume': 0.0, 'CloseUSD': 351.0755859}\n",
      "{'Index': 'J203.JO', 'Date': '2018-05-21', 'Open': 57804.32813, 'High': 58529.01953, 'Low': 57701.08984, 'Close': 57821.19922, 'Adj Close': 57821.19922, 'Volume': 0.0, 'CloseUSD': 4047.4839454000007}\n",
      "{'Index': 'IXIC', 'Date': '1981-11-16', 'Open': 197.160004, 'High': 197.160004, 'Low': 197.160004, 'Close': 197.160004, 'Adj Close': 197.160004, 'Volume': 0.0, 'CloseUSD': 197.160004}\n",
      "{'Index': 'TWII', 'Date': '2018-04-11', 'Open': 10961.7002, 'High': 11016.34961, 'Low': 10953.30957, 'Close': 10974.01953, 'Adj Close': 10974.01953, 'Volume': 2560400.0, 'CloseUSD': 438.9607812}\n",
      "{'Index': 'IXIC', 'Date': '1989-09-29', 'Open': 471.799988, 'High': 473.299988, 'Low': 471.399994, 'Close': 472.899994, 'Adj Close': 472.899994, 'Volume': 136380000.0, 'CloseUSD': 472.899994}\n",
      "{'Index': '399001.SZ', 'Date': '1998-11-24', 'Open': 3298.209961, 'High': 3319.090088, 'Low': 3289.73999, 'Close': 3297.189941, 'Adj Close': 3297.153076, 'Volume': 0.0, 'CloseUSD': 527.55039056}\n",
      "{'Index': 'GSPTSE', 'Date': '2004-01-07', 'Open': 8404.599609, 'High': 8419.0, 'Low': 8361.0, 'Close': 8388.5, 'Adj Close': 8388.5, 'Volume': 23864830000.0, 'CloseUSD': 6962.455}\n",
      "{'Index': 'GDAXI', 'Date': '2014-05-12', 'Open': 9608.929688, 'High': 9710.339844, 'Low': 9587.139648, 'Close': 9702.459961, 'Adj Close': 9702.459961, 'Volume': 87508500.0, 'CloseUSD': 11837.00115242}\n",
      "{'Index': 'NSEI', 'Date': '2018-03-15', 'Open': 10405.4502, 'High': 10420.0, 'Low': 10346.2002, 'Close': 10360.15039, 'Adj Close': 10360.15039, 'Volume': 173900.0, 'CloseUSD': 103.6015039}\n",
      "{'Index': 'J203.JO', 'Date': '2018-03-29', 'Open': 54763.96875, 'High': 55568.57031, 'Low': 54763.96875, 'Close': 55474.51953, 'Adj Close': 55474.51953, 'Volume': 0.0, 'CloseUSD': 3883.2163671}\n",
      "{'Index': 'N225', 'Date': '1973-03-26', 'Open': 5066.02002, 'High': 5066.02002, 'Low': 5066.02002, 'Close': 5066.02002, 'Adj Close': 5066.02002, 'Volume': 0.0, 'CloseUSD': 50.6602002}\n",
      "{'Index': 'HSI', 'Date': '2015-06-17', 'Open': 26671.19922, 'High': 26880.78906, 'Low': 26555.96094, 'Close': 26753.78906, 'Adj Close': 26753.78906, 'Volume': 1819404400.0, 'CloseUSD': 3477.9925778}\n",
      "{'Index': '399001.SZ', 'Date': '2007-12-14', 'Open': 15849.79004, 'High': 16492.81055, 'Low': 15734.41016, 'Close': 16483.5, 'Adj Close': 16483.31641, 'Volume': 50100.0, 'CloseUSD': 2637.36}\n",
      "{'Index': 'IXIC', 'Date': '1990-11-23', 'Open': 348.799988, 'High': 349.700012, 'Low': 348.5, 'Close': 349.0, 'Adj Close': 349.0, 'Volume': 69420000.0, 'CloseUSD': 349.0}\n",
      "{'Index': 'IXIC', 'Date': '1980-07-08', 'Open': 163.580002, 'High': 163.580002, 'Low': 163.580002, 'Close': 163.580002, 'Adj Close': 163.580002, 'Volume': 0.0, 'CloseUSD': 163.580002}\n",
      "{'Index': '399001.SZ', 'Date': '2005-10-17', 'Open': 2830.26001, 'High': 2830.26001, 'Low': 2787.909912, 'Close': 2798.97998, 'Adj Close': 2798.94873, 'Volume': 17600.0, 'CloseUSD': 447.8367968}\n",
      "{'Index': 'GDAXI', 'Date': '2002-08-05', 'Open': 3533.300049, 'High': 3536.050049, 'Low': 3327.959961, 'Close': 3332.649902, 'Adj Close': 3332.649902, 'Volume': 81125300.0, 'CloseUSD': 4065.83288044}\n",
      "{'Index': 'IXIC', 'Date': '2009-07-20', 'Open': 1896.98999, 'High': 1909.890015, 'Low': 1890.0, 'Close': 1909.290039, 'Adj Close': 1909.290039, 'Volume': 2046350000.0, 'CloseUSD': 1909.290039}\n",
      "{'Index': 'N225', 'Date': '1976-12-28', 'Open': 4990.850098, 'High': 4990.850098, 'Low': 4990.850098, 'Close': 4990.850098, 'Adj Close': 4990.850098, 'Volume': 0.0, 'CloseUSD': 49.90850098}\n",
      "{'Index': 'HSI', 'Date': '2019-11-05', 'Open': 27601.09961, 'High': 27733.07031, 'Low': 27463.33008, 'Close': 27683.40039, 'Adj Close': 27683.40039, 'Volume': 1748633300.0, 'CloseUSD': 3598.8420507}\n",
      "{'Index': 'GSPTSE', 'Date': '2020-01-09', 'Open': 17205.90039, 'High': 17255.5, 'Low': 17201.30078, 'Close': 17235.59961, 'Adj Close': 17235.59961, 'Volume': 22250120000.0, 'CloseUSD': 14305.5476763}\n",
      "{'Index': 'N225', 'Date': '1989-05-29', 'Open': 34213.98047, 'High': 34337.94141, 'Low': 34102.28125, 'Close': 34160.82813, 'Adj Close': 34160.82813, 'Volume': 0.0, 'CloseUSD': 341.60828130000004}\n",
      "{'Index': 'N225', 'Date': '1968-05-01', 'Open': 1464.76001, 'High': 1464.76001, 'Low': 1464.76001, 'Close': 1464.76001, 'Adj Close': 1464.76001, 'Volume': 0.0, 'CloseUSD': 14.6476001}\n",
      "{'Index': '399001.SZ', 'Date': '2009-02-02', 'Open': 7073.870117, 'High': 7099.25, 'Low': 6995.839844, 'Close': 7087.609863, 'Adj Close': 7087.530273, 'Volume': 72000.0, 'CloseUSD': 1134.01757808}\n",
      "{'Index': 'HSI', 'Date': '2019-06-25', 'Open': 28447.96094, 'High': 28470.09961, 'Low': 28066.13086, 'Close': 28185.98047, 'Adj Close': 28185.98047, 'Volume': 1851984100.0, 'CloseUSD': 3664.1774611}\n",
      "{'Index': 'GSPTSE', 'Date': '2019-02-14', 'Open': 15622.29981, 'High': 15733.09961, 'Low': 15608.2002, 'Close': 15696.0, 'Adj Close': 15696.0, 'Volume': 30583380000.0, 'CloseUSD': 13027.679999999998}\n",
      "{'Index': 'GDAXI', 'Date': '2007-01-03', 'Open': 6681.22998, 'High': 6704.040039, 'Low': 6667.580078, 'Close': 6691.319824, 'Adj Close': 6691.319824, 'Volume': 105913800.0, 'CloseUSD': 8163.41018528}\n",
      "{'Index': 'IXIC', 'Date': '1981-11-25', 'Open': 200.009995, 'High': 200.009995, 'Low': 200.009995, 'Close': 200.009995, 'Adj Close': 200.009995, 'Volume': 0.0, 'CloseUSD': 200.009995}\n",
      "{'Index': 'IXIC', 'Date': '1979-10-29', 'Open': 133.910004, 'High': 133.910004, 'Low': 133.910004, 'Close': 133.910004, 'Adj Close': 133.910004, 'Volume': 0.0, 'CloseUSD': 133.910004}\n",
      "{'Index': 'NYA', 'Date': '2006-12-08', 'Open': 9041.980469, 'High': 9074.160156, 'Low': 9023.919922, 'Close': 9042.19043, 'Adj Close': 9042.19043, 'Volume': 2440460000.0, 'CloseUSD': 9042.19043}\n",
      "{'Index': 'NSEI', 'Date': '2018-11-14', 'Open': 10634.90039, 'High': 10651.59961, 'Low': 10532.7002, 'Close': 10576.29981, 'Adj Close': 10576.29981, 'Volume': 384500.0, 'CloseUSD': 105.7629981}\n",
      "{'Index': 'N100', 'Date': '2020-05-27', 'Open': 921.190002, 'High': 931.130005, 'Low': 917.940002, 'Close': 927.23999, 'Adj Close': 927.23999, 'Volume': 425476600.0, 'CloseUSD': 1131.2327878}\n",
      "{'Index': 'SSMI', 'Date': '2014-08-05', 'Open': 8322.129883, 'High': 8388.009766, 'Low': 8309.009766, 'Close': 8342.040039, 'Adj Close': 8342.040039, 'Volume': 46474400.0, 'CloseUSD': 9259.66444329}\n",
      "{'Index': 'IXIC', 'Date': '1985-07-19', 'Open': 306.799988, 'High': 307.799988, 'Low': 306.700012, 'Close': 307.799988, 'Adj Close': 307.799988, 'Volume': 85710000.0, 'CloseUSD': 307.799988}\n",
      "{'Index': 'GSPTSE', 'Date': '1998-09-01', 'Open': 5566.399902, 'High': 5609.100098, 'Low': 5419.899902, 'Close': 5538.100098, 'Adj Close': 5538.100098, 'Volume': 9064640000.0, 'CloseUSD': 4596.62308134}\n",
      "{'Index': 'GDAXI', 'Date': '2017-03-13', 'Open': 11954.79981, 'High': 12006.00977, 'Low': 11949.03027, 'Close': 11990.03027, 'Adj Close': 11990.03027, 'Volume': 75690500.0, 'CloseUSD': 14627.8369294}\n",
      "{'Index': 'HSI', 'Date': '2021-01-21', 'Open': 29951.7793, 'High': 30135.5, 'Low': 29745.86914, 'Close': 29927.75977, 'Adj Close': 29927.75977, 'Volume': 3004888900.0, 'CloseUSD': 3890.6087701}\n",
      "{'Index': 'N225', 'Date': '2018-01-22', 'Open': 23797.83984, 'High': 23816.33008, 'Low': 23697.81055, 'Close': 23816.33008, 'Adj Close': 23816.33008, 'Volume': 65200000.0, 'CloseUSD': 238.1633008}\n",
      "{'Index': 'IXIC', 'Date': '1999-07-08', 'Open': 2744.47998, 'High': 2775.52002, 'Low': 2731.120117, 'Close': 2771.860107, 'Adj Close': 2771.860107, 'Volume': 1048380000.0, 'CloseUSD': 2771.860107}\n",
      "{'Index': 'GDAXI', 'Date': '1989-04-27', 'Open': 1374.76001, 'High': 1374.76001, 'Low': 1374.76001, 'Close': 1374.76001, 'Adj Close': 1374.76001, 'Volume': 0.0, 'CloseUSD': 1677.2072122}\n",
      "{'Index': 'HSI', 'Date': '2015-09-10', 'Open': 21667.85938, 'High': 21771.57031, 'Low': 21492.08984, 'Close': 21562.5, 'Adj Close': 21562.5, 'Volume': 2092595900.0, 'CloseUSD': 2803.125}\n",
      "{'Index': 'NYA', 'Date': '1993-05-11', 'Open': 2599.870117, 'High': 2599.870117, 'Low': 2599.870117, 'Close': 2599.870117, 'Adj Close': 2599.870117, 'Volume': 0.0, 'CloseUSD': 2599.870117}\n",
      "{'Index': 'NYA', 'Date': '2018-03-29', 'Open': 12356.19043, 'High': 12512.0, 'Low': 12356.08008, 'Close': 12452.05957, 'Adj Close': 12452.05957, 'Volume': 3565990000.0, 'CloseUSD': 12452.05957}\n",
      "{'Index': '000001.SS', 'Date': '1997-07-07', 'Open': 1161.707031, 'High': 1163.447021, 'Low': 1085.572021, 'Close': 1096.81897, 'Adj Close': 1096.81897, 'Volume': 0.0, 'CloseUSD': 175.4910352}\n",
      "{'Index': 'NSEI', 'Date': '2009-01-19', 'Open': 2828.699951, 'High': 2868.199951, 'Low': 2819.899902, 'Close': 2846.199951, 'Adj Close': 2846.199951, 'Volume': 0.0, 'CloseUSD': 28.46199951}\n",
      "{'Index': 'N225', 'Date': '2003-01-22', 'Open': 8680.570313, 'High': 8708.540039, 'Low': 8568.660156, 'Close': 8611.040039, 'Adj Close': 8611.040039, 'Volume': 69700000.0, 'CloseUSD': 86.11040039}\n"
     ]
    },
    {
     "ename": "KeyboardInterrupt",
     "evalue": "",
     "output_type": "error",
     "traceback": [
      "\u001b[0;31m---------------------------------------------------------------------------\u001b[0m",
      "\u001b[0;31mKeyboardInterrupt\u001b[0m                         Traceback (most recent call last)",
      "\u001b[0;32m/var/folders/ry/s90z2m814sjdv1671txhlrnm0000gn/T/ipykernel_99551/2861557713.py\u001b[0m in \u001b[0;36m<module>\u001b[0;34m\u001b[0m\n\u001b[0;32m----> 1\u001b[0;31m \u001b[0;32mfor\u001b[0m \u001b[0mc\u001b[0m \u001b[0;32min\u001b[0m \u001b[0mconsumer\u001b[0m\u001b[0;34m:\u001b[0m\u001b[0;34m\u001b[0m\u001b[0;34m\u001b[0m\u001b[0m\n\u001b[0m\u001b[1;32m      2\u001b[0m     \u001b[0mprint\u001b[0m\u001b[0;34m(\u001b[0m\u001b[0mc\u001b[0m\u001b[0;34m.\u001b[0m\u001b[0mvalue\u001b[0m\u001b[0;34m)\u001b[0m\u001b[0;34m\u001b[0m\u001b[0;34m\u001b[0m\u001b[0m\n",
      "\u001b[0;32m~/opt/anaconda3/lib/python3.9/site-packages/kafka/consumer/group.py\u001b[0m in \u001b[0;36m__next__\u001b[0;34m(self)\u001b[0m\n\u001b[1;32m   1191\u001b[0m             \u001b[0;32mreturn\u001b[0m \u001b[0mself\u001b[0m\u001b[0;34m.\u001b[0m\u001b[0mnext_v1\u001b[0m\u001b[0;34m(\u001b[0m\u001b[0;34m)\u001b[0m\u001b[0;34m\u001b[0m\u001b[0;34m\u001b[0m\u001b[0m\n\u001b[1;32m   1192\u001b[0m         \u001b[0;32melse\u001b[0m\u001b[0;34m:\u001b[0m\u001b[0;34m\u001b[0m\u001b[0;34m\u001b[0m\u001b[0m\n\u001b[0;32m-> 1193\u001b[0;31m             \u001b[0;32mreturn\u001b[0m \u001b[0mself\u001b[0m\u001b[0;34m.\u001b[0m\u001b[0mnext_v2\u001b[0m\u001b[0;34m(\u001b[0m\u001b[0;34m)\u001b[0m\u001b[0;34m\u001b[0m\u001b[0;34m\u001b[0m\u001b[0m\n\u001b[0m\u001b[1;32m   1194\u001b[0m \u001b[0;34m\u001b[0m\u001b[0m\n\u001b[1;32m   1195\u001b[0m     \u001b[0;32mdef\u001b[0m \u001b[0mnext_v2\u001b[0m\u001b[0;34m(\u001b[0m\u001b[0mself\u001b[0m\u001b[0;34m)\u001b[0m\u001b[0;34m:\u001b[0m\u001b[0;34m\u001b[0m\u001b[0;34m\u001b[0m\u001b[0m\n",
      "\u001b[0;32m~/opt/anaconda3/lib/python3.9/site-packages/kafka/consumer/group.py\u001b[0m in \u001b[0;36mnext_v2\u001b[0;34m(self)\u001b[0m\n\u001b[1;32m   1199\u001b[0m                 \u001b[0mself\u001b[0m\u001b[0;34m.\u001b[0m\u001b[0m_iterator\u001b[0m \u001b[0;34m=\u001b[0m \u001b[0mself\u001b[0m\u001b[0;34m.\u001b[0m\u001b[0m_message_generator_v2\u001b[0m\u001b[0;34m(\u001b[0m\u001b[0;34m)\u001b[0m\u001b[0;34m\u001b[0m\u001b[0;34m\u001b[0m\u001b[0m\n\u001b[1;32m   1200\u001b[0m             \u001b[0;32mtry\u001b[0m\u001b[0;34m:\u001b[0m\u001b[0;34m\u001b[0m\u001b[0;34m\u001b[0m\u001b[0m\n\u001b[0;32m-> 1201\u001b[0;31m                 \u001b[0;32mreturn\u001b[0m \u001b[0mnext\u001b[0m\u001b[0;34m(\u001b[0m\u001b[0mself\u001b[0m\u001b[0;34m.\u001b[0m\u001b[0m_iterator\u001b[0m\u001b[0;34m)\u001b[0m\u001b[0;34m\u001b[0m\u001b[0;34m\u001b[0m\u001b[0m\n\u001b[0m\u001b[1;32m   1202\u001b[0m             \u001b[0;32mexcept\u001b[0m \u001b[0mStopIteration\u001b[0m\u001b[0;34m:\u001b[0m\u001b[0;34m\u001b[0m\u001b[0;34m\u001b[0m\u001b[0m\n\u001b[1;32m   1203\u001b[0m                 \u001b[0mself\u001b[0m\u001b[0;34m.\u001b[0m\u001b[0m_iterator\u001b[0m \u001b[0;34m=\u001b[0m \u001b[0;32mNone\u001b[0m\u001b[0;34m\u001b[0m\u001b[0;34m\u001b[0m\u001b[0m\n",
      "\u001b[0;32m~/opt/anaconda3/lib/python3.9/site-packages/kafka/consumer/group.py\u001b[0m in \u001b[0;36m_message_generator_v2\u001b[0;34m(self)\u001b[0m\n\u001b[1;32m   1114\u001b[0m     \u001b[0;32mdef\u001b[0m \u001b[0m_message_generator_v2\u001b[0m\u001b[0;34m(\u001b[0m\u001b[0mself\u001b[0m\u001b[0;34m)\u001b[0m\u001b[0;34m:\u001b[0m\u001b[0;34m\u001b[0m\u001b[0;34m\u001b[0m\u001b[0m\n\u001b[1;32m   1115\u001b[0m         \u001b[0mtimeout_ms\u001b[0m \u001b[0;34m=\u001b[0m \u001b[0;36m1000\u001b[0m \u001b[0;34m*\u001b[0m \u001b[0;34m(\u001b[0m\u001b[0mself\u001b[0m\u001b[0;34m.\u001b[0m\u001b[0m_consumer_timeout\u001b[0m \u001b[0;34m-\u001b[0m \u001b[0mtime\u001b[0m\u001b[0;34m.\u001b[0m\u001b[0mtime\u001b[0m\u001b[0;34m(\u001b[0m\u001b[0;34m)\u001b[0m\u001b[0;34m)\u001b[0m\u001b[0;34m\u001b[0m\u001b[0;34m\u001b[0m\u001b[0m\n\u001b[0;32m-> 1116\u001b[0;31m         \u001b[0mrecord_map\u001b[0m \u001b[0;34m=\u001b[0m \u001b[0mself\u001b[0m\u001b[0;34m.\u001b[0m\u001b[0mpoll\u001b[0m\u001b[0;34m(\u001b[0m\u001b[0mtimeout_ms\u001b[0m\u001b[0;34m=\u001b[0m\u001b[0mtimeout_ms\u001b[0m\u001b[0;34m,\u001b[0m \u001b[0mupdate_offsets\u001b[0m\u001b[0;34m=\u001b[0m\u001b[0;32mFalse\u001b[0m\u001b[0;34m)\u001b[0m\u001b[0;34m\u001b[0m\u001b[0;34m\u001b[0m\u001b[0m\n\u001b[0m\u001b[1;32m   1117\u001b[0m         \u001b[0;32mfor\u001b[0m \u001b[0mtp\u001b[0m\u001b[0;34m,\u001b[0m \u001b[0mrecords\u001b[0m \u001b[0;32min\u001b[0m \u001b[0msix\u001b[0m\u001b[0;34m.\u001b[0m\u001b[0miteritems\u001b[0m\u001b[0;34m(\u001b[0m\u001b[0mrecord_map\u001b[0m\u001b[0;34m)\u001b[0m\u001b[0;34m:\u001b[0m\u001b[0;34m\u001b[0m\u001b[0;34m\u001b[0m\u001b[0m\n\u001b[1;32m   1118\u001b[0m             \u001b[0;31m# Generators are stateful, and it is possible that the tp / records\u001b[0m\u001b[0;34m\u001b[0m\u001b[0;34m\u001b[0m\u001b[0m\n",
      "\u001b[0;32m~/opt/anaconda3/lib/python3.9/site-packages/kafka/consumer/group.py\u001b[0m in \u001b[0;36mpoll\u001b[0;34m(self, timeout_ms, max_records, update_offsets)\u001b[0m\n\u001b[1;32m    653\u001b[0m         \u001b[0mremaining\u001b[0m \u001b[0;34m=\u001b[0m \u001b[0mtimeout_ms\u001b[0m\u001b[0;34m\u001b[0m\u001b[0;34m\u001b[0m\u001b[0m\n\u001b[1;32m    654\u001b[0m         \u001b[0;32mwhile\u001b[0m \u001b[0;32mTrue\u001b[0m\u001b[0;34m:\u001b[0m\u001b[0;34m\u001b[0m\u001b[0;34m\u001b[0m\u001b[0m\n\u001b[0;32m--> 655\u001b[0;31m             \u001b[0mrecords\u001b[0m \u001b[0;34m=\u001b[0m \u001b[0mself\u001b[0m\u001b[0;34m.\u001b[0m\u001b[0m_poll_once\u001b[0m\u001b[0;34m(\u001b[0m\u001b[0mremaining\u001b[0m\u001b[0;34m,\u001b[0m \u001b[0mmax_records\u001b[0m\u001b[0;34m,\u001b[0m \u001b[0mupdate_offsets\u001b[0m\u001b[0;34m=\u001b[0m\u001b[0mupdate_offsets\u001b[0m\u001b[0;34m)\u001b[0m\u001b[0;34m\u001b[0m\u001b[0;34m\u001b[0m\u001b[0m\n\u001b[0m\u001b[1;32m    656\u001b[0m             \u001b[0;32mif\u001b[0m \u001b[0mrecords\u001b[0m\u001b[0;34m:\u001b[0m\u001b[0;34m\u001b[0m\u001b[0;34m\u001b[0m\u001b[0m\n\u001b[1;32m    657\u001b[0m                 \u001b[0;32mreturn\u001b[0m \u001b[0mrecords\u001b[0m\u001b[0;34m\u001b[0m\u001b[0;34m\u001b[0m\u001b[0m\n",
      "\u001b[0;32m~/opt/anaconda3/lib/python3.9/site-packages/kafka/consumer/group.py\u001b[0m in \u001b[0;36m_poll_once\u001b[0;34m(self, timeout_ms, max_records, update_offsets)\u001b[0m\n\u001b[1;32m    700\u001b[0m \u001b[0;34m\u001b[0m\u001b[0m\n\u001b[1;32m    701\u001b[0m         \u001b[0mtimeout_ms\u001b[0m \u001b[0;34m=\u001b[0m \u001b[0mmin\u001b[0m\u001b[0;34m(\u001b[0m\u001b[0mtimeout_ms\u001b[0m\u001b[0;34m,\u001b[0m \u001b[0mself\u001b[0m\u001b[0;34m.\u001b[0m\u001b[0m_coordinator\u001b[0m\u001b[0;34m.\u001b[0m\u001b[0mtime_to_next_poll\u001b[0m\u001b[0;34m(\u001b[0m\u001b[0;34m)\u001b[0m \u001b[0;34m*\u001b[0m \u001b[0;36m1000\u001b[0m\u001b[0;34m)\u001b[0m\u001b[0;34m\u001b[0m\u001b[0;34m\u001b[0m\u001b[0m\n\u001b[0;32m--> 702\u001b[0;31m         \u001b[0mself\u001b[0m\u001b[0;34m.\u001b[0m\u001b[0m_client\u001b[0m\u001b[0;34m.\u001b[0m\u001b[0mpoll\u001b[0m\u001b[0;34m(\u001b[0m\u001b[0mtimeout_ms\u001b[0m\u001b[0;34m=\u001b[0m\u001b[0mtimeout_ms\u001b[0m\u001b[0;34m)\u001b[0m\u001b[0;34m\u001b[0m\u001b[0;34m\u001b[0m\u001b[0m\n\u001b[0m\u001b[1;32m    703\u001b[0m         \u001b[0;31m# after the long poll, we should check whether the group needs to rebalance\u001b[0m\u001b[0;34m\u001b[0m\u001b[0;34m\u001b[0m\u001b[0m\n\u001b[1;32m    704\u001b[0m         \u001b[0;31m# prior to returning data so that the group can stabilize faster\u001b[0m\u001b[0;34m\u001b[0m\u001b[0;34m\u001b[0m\u001b[0m\n",
      "\u001b[0;32m~/opt/anaconda3/lib/python3.9/site-packages/kafka/client_async.py\u001b[0m in \u001b[0;36mpoll\u001b[0;34m(self, timeout_ms, future)\u001b[0m\n\u001b[1;32m    600\u001b[0m                     \u001b[0mtimeout\u001b[0m \u001b[0;34m=\u001b[0m \u001b[0mmax\u001b[0m\u001b[0;34m(\u001b[0m\u001b[0;36m0\u001b[0m\u001b[0;34m,\u001b[0m \u001b[0mtimeout\u001b[0m\u001b[0;34m)\u001b[0m  \u001b[0;31m# avoid negative timeouts\u001b[0m\u001b[0;34m\u001b[0m\u001b[0;34m\u001b[0m\u001b[0m\n\u001b[1;32m    601\u001b[0m \u001b[0;34m\u001b[0m\u001b[0m\n\u001b[0;32m--> 602\u001b[0;31m                 \u001b[0mself\u001b[0m\u001b[0;34m.\u001b[0m\u001b[0m_poll\u001b[0m\u001b[0;34m(\u001b[0m\u001b[0mtimeout\u001b[0m \u001b[0;34m/\u001b[0m \u001b[0;36m1000\u001b[0m\u001b[0;34m)\u001b[0m\u001b[0;34m\u001b[0m\u001b[0;34m\u001b[0m\u001b[0m\n\u001b[0m\u001b[1;32m    603\u001b[0m \u001b[0;34m\u001b[0m\u001b[0m\n\u001b[1;32m    604\u001b[0m             \u001b[0;31m# called without the lock to avoid deadlock potential\u001b[0m\u001b[0;34m\u001b[0m\u001b[0;34m\u001b[0m\u001b[0m\n",
      "\u001b[0;32m~/opt/anaconda3/lib/python3.9/site-packages/kafka/client_async.py\u001b[0m in \u001b[0;36m_poll\u001b[0;34m(self, timeout)\u001b[0m\n\u001b[1;32m    632\u001b[0m \u001b[0;34m\u001b[0m\u001b[0m\n\u001b[1;32m    633\u001b[0m         \u001b[0mstart_select\u001b[0m \u001b[0;34m=\u001b[0m \u001b[0mtime\u001b[0m\u001b[0;34m.\u001b[0m\u001b[0mtime\u001b[0m\u001b[0;34m(\u001b[0m\u001b[0;34m)\u001b[0m\u001b[0;34m\u001b[0m\u001b[0;34m\u001b[0m\u001b[0m\n\u001b[0;32m--> 634\u001b[0;31m         \u001b[0mready\u001b[0m \u001b[0;34m=\u001b[0m \u001b[0mself\u001b[0m\u001b[0;34m.\u001b[0m\u001b[0m_selector\u001b[0m\u001b[0;34m.\u001b[0m\u001b[0mselect\u001b[0m\u001b[0;34m(\u001b[0m\u001b[0mtimeout\u001b[0m\u001b[0;34m)\u001b[0m\u001b[0;34m\u001b[0m\u001b[0;34m\u001b[0m\u001b[0m\n\u001b[0m\u001b[1;32m    635\u001b[0m         \u001b[0mend_select\u001b[0m \u001b[0;34m=\u001b[0m \u001b[0mtime\u001b[0m\u001b[0;34m.\u001b[0m\u001b[0mtime\u001b[0m\u001b[0;34m(\u001b[0m\u001b[0;34m)\u001b[0m\u001b[0;34m\u001b[0m\u001b[0;34m\u001b[0m\u001b[0m\n\u001b[1;32m    636\u001b[0m         \u001b[0;32mif\u001b[0m \u001b[0mself\u001b[0m\u001b[0;34m.\u001b[0m\u001b[0m_sensors\u001b[0m\u001b[0;34m:\u001b[0m\u001b[0;34m\u001b[0m\u001b[0;34m\u001b[0m\u001b[0m\n",
      "\u001b[0;32m~/opt/anaconda3/lib/python3.9/selectors.py\u001b[0m in \u001b[0;36mselect\u001b[0;34m(self, timeout)\u001b[0m\n\u001b[1;32m    560\u001b[0m             \u001b[0mready\u001b[0m \u001b[0;34m=\u001b[0m \u001b[0;34m[\u001b[0m\u001b[0;34m]\u001b[0m\u001b[0;34m\u001b[0m\u001b[0;34m\u001b[0m\u001b[0m\n\u001b[1;32m    561\u001b[0m             \u001b[0;32mtry\u001b[0m\u001b[0;34m:\u001b[0m\u001b[0;34m\u001b[0m\u001b[0;34m\u001b[0m\u001b[0m\n\u001b[0;32m--> 562\u001b[0;31m                 \u001b[0mkev_list\u001b[0m \u001b[0;34m=\u001b[0m \u001b[0mself\u001b[0m\u001b[0;34m.\u001b[0m\u001b[0m_selector\u001b[0m\u001b[0;34m.\u001b[0m\u001b[0mcontrol\u001b[0m\u001b[0;34m(\u001b[0m\u001b[0;32mNone\u001b[0m\u001b[0;34m,\u001b[0m \u001b[0mmax_ev\u001b[0m\u001b[0;34m,\u001b[0m \u001b[0mtimeout\u001b[0m\u001b[0;34m)\u001b[0m\u001b[0;34m\u001b[0m\u001b[0;34m\u001b[0m\u001b[0m\n\u001b[0m\u001b[1;32m    563\u001b[0m             \u001b[0;32mexcept\u001b[0m \u001b[0mInterruptedError\u001b[0m\u001b[0;34m:\u001b[0m\u001b[0;34m\u001b[0m\u001b[0;34m\u001b[0m\u001b[0m\n\u001b[1;32m    564\u001b[0m                 \u001b[0;32mreturn\u001b[0m \u001b[0mready\u001b[0m\u001b[0;34m\u001b[0m\u001b[0;34m\u001b[0m\u001b[0m\n",
      "\u001b[0;31mKeyboardInterrupt\u001b[0m: "
     ]
    }
   ],
   "source": [
    "#for c in consumer:\n",
    "#    print(c.value)"
   ]
  },
  {
   "cell_type": "code",
   "execution_count": 15,
   "id": "8a7e1ec3",
   "metadata": {},
   "outputs": [],
   "source": [
    "s3 = S3FileSystem()"
   ]
  },
  {
   "cell_type": "code",
   "execution_count": 19,
   "id": "83a4148f",
   "metadata": {},
   "outputs": [
    {
     "ename": "KeyboardInterrupt",
     "evalue": "",
     "output_type": "error",
     "traceback": [
      "\u001b[0;31m---------------------------------------------------------------------------\u001b[0m",
      "\u001b[0;31mKeyboardInterrupt\u001b[0m                         Traceback (most recent call last)",
      "\u001b[0;32m/var/folders/ry/s90z2m814sjdv1671txhlrnm0000gn/T/ipykernel_99551/580659087.py\u001b[0m in \u001b[0;36m<module>\u001b[0;34m\u001b[0m\n\u001b[1;32m      1\u001b[0m \u001b[0;32mfor\u001b[0m \u001b[0mcount\u001b[0m\u001b[0;34m,\u001b[0m \u001b[0mi\u001b[0m \u001b[0;32min\u001b[0m \u001b[0menumerate\u001b[0m\u001b[0;34m(\u001b[0m\u001b[0mconsumer\u001b[0m\u001b[0;34m)\u001b[0m\u001b[0;34m:\u001b[0m\u001b[0;34m\u001b[0m\u001b[0;34m\u001b[0m\u001b[0m\n\u001b[0;32m----> 2\u001b[0;31m     \u001b[0;32mwith\u001b[0m \u001b[0ms3\u001b[0m\u001b[0;34m.\u001b[0m\u001b[0mopen\u001b[0m\u001b[0;34m(\u001b[0m\u001b[0;34m\"s3://kafka-stock-market-data-set/stock_market_{}.json\"\u001b[0m\u001b[0;34m.\u001b[0m\u001b[0mformat\u001b[0m\u001b[0;34m(\u001b[0m\u001b[0mcount\u001b[0m\u001b[0;34m)\u001b[0m\u001b[0;34m,\u001b[0m \u001b[0;34m\"w\"\u001b[0m\u001b[0;34m)\u001b[0m \u001b[0;32mas\u001b[0m \u001b[0mfile\u001b[0m\u001b[0;34m:\u001b[0m\u001b[0mjson\u001b[0m\u001b[0;34m.\u001b[0m\u001b[0mdump\u001b[0m\u001b[0;34m(\u001b[0m\u001b[0mi\u001b[0m\u001b[0;34m.\u001b[0m\u001b[0mvalue\u001b[0m\u001b[0;34m,\u001b[0m \u001b[0mfile\u001b[0m\u001b[0;34m)\u001b[0m\u001b[0;34m\u001b[0m\u001b[0;34m\u001b[0m\u001b[0m\n\u001b[0m",
      "\u001b[0;32m~/opt/anaconda3/lib/python3.9/site-packages/fsspec/spec.py\u001b[0m in \u001b[0;36mclose\u001b[0;34m(self)\u001b[0m\n\u001b[1;32m   1989\u001b[0m         \u001b[0;32melse\u001b[0m\u001b[0;34m:\u001b[0m\u001b[0;34m\u001b[0m\u001b[0;34m\u001b[0m\u001b[0m\n\u001b[1;32m   1990\u001b[0m             \u001b[0;32mif\u001b[0m \u001b[0;32mnot\u001b[0m \u001b[0mself\u001b[0m\u001b[0;34m.\u001b[0m\u001b[0mforced\u001b[0m\u001b[0;34m:\u001b[0m\u001b[0;34m\u001b[0m\u001b[0;34m\u001b[0m\u001b[0m\n\u001b[0;32m-> 1991\u001b[0;31m                 \u001b[0mself\u001b[0m\u001b[0;34m.\u001b[0m\u001b[0mflush\u001b[0m\u001b[0;34m(\u001b[0m\u001b[0mforce\u001b[0m\u001b[0;34m=\u001b[0m\u001b[0;32mTrue\u001b[0m\u001b[0;34m)\u001b[0m\u001b[0;34m\u001b[0m\u001b[0;34m\u001b[0m\u001b[0m\n\u001b[0m\u001b[1;32m   1992\u001b[0m \u001b[0;34m\u001b[0m\u001b[0m\n\u001b[1;32m   1993\u001b[0m             \u001b[0;32mif\u001b[0m \u001b[0mself\u001b[0m\u001b[0;34m.\u001b[0m\u001b[0mfs\u001b[0m \u001b[0;32mis\u001b[0m \u001b[0;32mnot\u001b[0m \u001b[0;32mNone\u001b[0m\u001b[0;34m:\u001b[0m\u001b[0;34m\u001b[0m\u001b[0;34m\u001b[0m\u001b[0m\n",
      "\u001b[0;32m~/opt/anaconda3/lib/python3.9/site-packages/fsspec/spec.py\u001b[0m in \u001b[0;36mflush\u001b[0;34m(self, force)\u001b[0m\n\u001b[1;32m   1853\u001b[0m                 \u001b[0;32mraise\u001b[0m\u001b[0;34m\u001b[0m\u001b[0;34m\u001b[0m\u001b[0m\n\u001b[1;32m   1854\u001b[0m \u001b[0;34m\u001b[0m\u001b[0m\n\u001b[0;32m-> 1855\u001b[0;31m         \u001b[0;32mif\u001b[0m \u001b[0mself\u001b[0m\u001b[0;34m.\u001b[0m\u001b[0m_upload_chunk\u001b[0m\u001b[0;34m(\u001b[0m\u001b[0mfinal\u001b[0m\u001b[0;34m=\u001b[0m\u001b[0mforce\u001b[0m\u001b[0;34m)\u001b[0m \u001b[0;32mis\u001b[0m \u001b[0;32mnot\u001b[0m \u001b[0;32mFalse\u001b[0m\u001b[0;34m:\u001b[0m\u001b[0;34m\u001b[0m\u001b[0;34m\u001b[0m\u001b[0m\n\u001b[0m\u001b[1;32m   1856\u001b[0m             \u001b[0mself\u001b[0m\u001b[0;34m.\u001b[0m\u001b[0moffset\u001b[0m \u001b[0;34m+=\u001b[0m \u001b[0mself\u001b[0m\u001b[0;34m.\u001b[0m\u001b[0mbuffer\u001b[0m\u001b[0;34m.\u001b[0m\u001b[0mseek\u001b[0m\u001b[0;34m(\u001b[0m\u001b[0;36m0\u001b[0m\u001b[0;34m,\u001b[0m \u001b[0;36m2\u001b[0m\u001b[0;34m)\u001b[0m\u001b[0;34m\u001b[0m\u001b[0;34m\u001b[0m\u001b[0m\n\u001b[1;32m   1857\u001b[0m             \u001b[0mself\u001b[0m\u001b[0;34m.\u001b[0m\u001b[0mbuffer\u001b[0m \u001b[0;34m=\u001b[0m \u001b[0mio\u001b[0m\u001b[0;34m.\u001b[0m\u001b[0mBytesIO\u001b[0m\u001b[0;34m(\u001b[0m\u001b[0;34m)\u001b[0m\u001b[0;34m\u001b[0m\u001b[0;34m\u001b[0m\u001b[0m\n",
      "\u001b[0;32m~/opt/anaconda3/lib/python3.9/site-packages/s3fs/core.py\u001b[0m in \u001b[0;36m_upload_chunk\u001b[0;34m(self, final)\u001b[0m\n\u001b[1;32m   2369\u001b[0m \u001b[0;34m\u001b[0m\u001b[0m\n\u001b[1;32m   2370\u001b[0m         \u001b[0;32mif\u001b[0m \u001b[0mself\u001b[0m\u001b[0;34m.\u001b[0m\u001b[0mautocommit\u001b[0m \u001b[0;32mand\u001b[0m \u001b[0mfinal\u001b[0m\u001b[0;34m:\u001b[0m\u001b[0;34m\u001b[0m\u001b[0;34m\u001b[0m\u001b[0m\n\u001b[0;32m-> 2371\u001b[0;31m             \u001b[0mself\u001b[0m\u001b[0;34m.\u001b[0m\u001b[0mcommit\u001b[0m\u001b[0;34m(\u001b[0m\u001b[0;34m)\u001b[0m\u001b[0;34m\u001b[0m\u001b[0;34m\u001b[0m\u001b[0m\n\u001b[0m\u001b[1;32m   2372\u001b[0m         \u001b[0;32mreturn\u001b[0m \u001b[0;32mnot\u001b[0m \u001b[0mfinal\u001b[0m\u001b[0;34m\u001b[0m\u001b[0;34m\u001b[0m\u001b[0m\n\u001b[1;32m   2373\u001b[0m \u001b[0;34m\u001b[0m\u001b[0m\n",
      "\u001b[0;32m~/opt/anaconda3/lib/python3.9/site-packages/s3fs/core.py\u001b[0m in \u001b[0;36mcommit\u001b[0;34m(self)\u001b[0m\n\u001b[1;32m   2387\u001b[0m                 \u001b[0;32mif\u001b[0m \u001b[0mself\u001b[0m\u001b[0;34m.\u001b[0m\u001b[0macl\u001b[0m\u001b[0;34m:\u001b[0m\u001b[0;34m\u001b[0m\u001b[0;34m\u001b[0m\u001b[0m\n\u001b[1;32m   2388\u001b[0m                     \u001b[0mkw\u001b[0m\u001b[0;34m[\u001b[0m\u001b[0;34m\"ACL\"\u001b[0m\u001b[0;34m]\u001b[0m \u001b[0;34m=\u001b[0m \u001b[0mself\u001b[0m\u001b[0;34m.\u001b[0m\u001b[0macl\u001b[0m\u001b[0;34m\u001b[0m\u001b[0;34m\u001b[0m\u001b[0m\n\u001b[0;32m-> 2389\u001b[0;31m                 \u001b[0mwrite_result\u001b[0m \u001b[0;34m=\u001b[0m \u001b[0mself\u001b[0m\u001b[0;34m.\u001b[0m\u001b[0m_call_s3\u001b[0m\u001b[0;34m(\u001b[0m\u001b[0;34m\"put_object\"\u001b[0m\u001b[0;34m,\u001b[0m \u001b[0;34m**\u001b[0m\u001b[0mkw\u001b[0m\u001b[0;34m)\u001b[0m\u001b[0;34m\u001b[0m\u001b[0;34m\u001b[0m\u001b[0m\n\u001b[0m\u001b[1;32m   2390\u001b[0m             \u001b[0;32melse\u001b[0m\u001b[0;34m:\u001b[0m\u001b[0;34m\u001b[0m\u001b[0;34m\u001b[0m\u001b[0m\n\u001b[1;32m   2391\u001b[0m                 \u001b[0;32mraise\u001b[0m \u001b[0mRuntimeError\u001b[0m\u001b[0;34m\u001b[0m\u001b[0;34m\u001b[0m\u001b[0m\n",
      "\u001b[0;32m~/opt/anaconda3/lib/python3.9/site-packages/s3fs/core.py\u001b[0m in \u001b[0;36m_call_s3\u001b[0;34m(self, method, *kwarglist, **kwargs)\u001b[0m\n\u001b[1;32m   2232\u001b[0m \u001b[0;34m\u001b[0m\u001b[0m\n\u001b[1;32m   2233\u001b[0m     \u001b[0;32mdef\u001b[0m \u001b[0m_call_s3\u001b[0m\u001b[0;34m(\u001b[0m\u001b[0mself\u001b[0m\u001b[0;34m,\u001b[0m \u001b[0mmethod\u001b[0m\u001b[0;34m,\u001b[0m \u001b[0;34m*\u001b[0m\u001b[0mkwarglist\u001b[0m\u001b[0;34m,\u001b[0m \u001b[0;34m**\u001b[0m\u001b[0mkwargs\u001b[0m\u001b[0;34m)\u001b[0m\u001b[0;34m:\u001b[0m\u001b[0;34m\u001b[0m\u001b[0;34m\u001b[0m\u001b[0m\n\u001b[0;32m-> 2234\u001b[0;31m         \u001b[0;32mreturn\u001b[0m \u001b[0mself\u001b[0m\u001b[0;34m.\u001b[0m\u001b[0mfs\u001b[0m\u001b[0;34m.\u001b[0m\u001b[0mcall_s3\u001b[0m\u001b[0;34m(\u001b[0m\u001b[0mmethod\u001b[0m\u001b[0;34m,\u001b[0m \u001b[0mself\u001b[0m\u001b[0;34m.\u001b[0m\u001b[0ms3_additional_kwargs\u001b[0m\u001b[0;34m,\u001b[0m \u001b[0;34m*\u001b[0m\u001b[0mkwarglist\u001b[0m\u001b[0;34m,\u001b[0m \u001b[0;34m**\u001b[0m\u001b[0mkwargs\u001b[0m\u001b[0;34m)\u001b[0m\u001b[0;34m\u001b[0m\u001b[0;34m\u001b[0m\u001b[0m\n\u001b[0m\u001b[1;32m   2235\u001b[0m \u001b[0;34m\u001b[0m\u001b[0m\n\u001b[1;32m   2236\u001b[0m     \u001b[0;32mdef\u001b[0m \u001b[0m_initiate_upload\u001b[0m\u001b[0;34m(\u001b[0m\u001b[0mself\u001b[0m\u001b[0;34m)\u001b[0m\u001b[0;34m:\u001b[0m\u001b[0;34m\u001b[0m\u001b[0;34m\u001b[0m\u001b[0m\n",
      "\u001b[0;32m~/opt/anaconda3/lib/python3.9/site-packages/fsspec/asyn.py\u001b[0m in \u001b[0;36mwrapper\u001b[0;34m(*args, **kwargs)\u001b[0m\n\u001b[1;32m    116\u001b[0m     \u001b[0;32mdef\u001b[0m \u001b[0mwrapper\u001b[0m\u001b[0;34m(\u001b[0m\u001b[0;34m*\u001b[0m\u001b[0margs\u001b[0m\u001b[0;34m,\u001b[0m \u001b[0;34m**\u001b[0m\u001b[0mkwargs\u001b[0m\u001b[0;34m)\u001b[0m\u001b[0;34m:\u001b[0m\u001b[0;34m\u001b[0m\u001b[0;34m\u001b[0m\u001b[0m\n\u001b[1;32m    117\u001b[0m         \u001b[0mself\u001b[0m \u001b[0;34m=\u001b[0m \u001b[0mobj\u001b[0m \u001b[0;32mor\u001b[0m \u001b[0margs\u001b[0m\u001b[0;34m[\u001b[0m\u001b[0;36m0\u001b[0m\u001b[0;34m]\u001b[0m\u001b[0;34m\u001b[0m\u001b[0;34m\u001b[0m\u001b[0m\n\u001b[0;32m--> 118\u001b[0;31m         \u001b[0;32mreturn\u001b[0m \u001b[0msync\u001b[0m\u001b[0;34m(\u001b[0m\u001b[0mself\u001b[0m\u001b[0;34m.\u001b[0m\u001b[0mloop\u001b[0m\u001b[0;34m,\u001b[0m \u001b[0mfunc\u001b[0m\u001b[0;34m,\u001b[0m \u001b[0;34m*\u001b[0m\u001b[0margs\u001b[0m\u001b[0;34m,\u001b[0m \u001b[0;34m**\u001b[0m\u001b[0mkwargs\u001b[0m\u001b[0;34m)\u001b[0m\u001b[0;34m\u001b[0m\u001b[0;34m\u001b[0m\u001b[0m\n\u001b[0m\u001b[1;32m    119\u001b[0m \u001b[0;34m\u001b[0m\u001b[0m\n\u001b[1;32m    120\u001b[0m     \u001b[0;32mreturn\u001b[0m \u001b[0mwrapper\u001b[0m\u001b[0;34m\u001b[0m\u001b[0;34m\u001b[0m\u001b[0m\n",
      "\u001b[0;32m~/opt/anaconda3/lib/python3.9/site-packages/fsspec/asyn.py\u001b[0m in \u001b[0;36msync\u001b[0;34m(loop, func, timeout, *args, **kwargs)\u001b[0m\n\u001b[1;32m     89\u001b[0m     \u001b[0;32mwhile\u001b[0m \u001b[0;32mTrue\u001b[0m\u001b[0;34m:\u001b[0m\u001b[0;34m\u001b[0m\u001b[0;34m\u001b[0m\u001b[0m\n\u001b[1;32m     90\u001b[0m         \u001b[0;31m# this loops allows thread to get interrupted\u001b[0m\u001b[0;34m\u001b[0m\u001b[0;34m\u001b[0m\u001b[0m\n\u001b[0;32m---> 91\u001b[0;31m         \u001b[0;32mif\u001b[0m \u001b[0mevent\u001b[0m\u001b[0;34m.\u001b[0m\u001b[0mwait\u001b[0m\u001b[0;34m(\u001b[0m\u001b[0;36m1\u001b[0m\u001b[0;34m)\u001b[0m\u001b[0;34m:\u001b[0m\u001b[0;34m\u001b[0m\u001b[0;34m\u001b[0m\u001b[0m\n\u001b[0m\u001b[1;32m     92\u001b[0m             \u001b[0;32mbreak\u001b[0m\u001b[0;34m\u001b[0m\u001b[0;34m\u001b[0m\u001b[0m\n\u001b[1;32m     93\u001b[0m         \u001b[0;32mif\u001b[0m \u001b[0mtimeout\u001b[0m \u001b[0;32mis\u001b[0m \u001b[0;32mnot\u001b[0m \u001b[0;32mNone\u001b[0m\u001b[0;34m:\u001b[0m\u001b[0;34m\u001b[0m\u001b[0;34m\u001b[0m\u001b[0m\n",
      "\u001b[0;32m~/opt/anaconda3/lib/python3.9/threading.py\u001b[0m in \u001b[0;36mwait\u001b[0;34m(self, timeout)\u001b[0m\n\u001b[1;32m    579\u001b[0m             \u001b[0msignaled\u001b[0m \u001b[0;34m=\u001b[0m \u001b[0mself\u001b[0m\u001b[0;34m.\u001b[0m\u001b[0m_flag\u001b[0m\u001b[0;34m\u001b[0m\u001b[0;34m\u001b[0m\u001b[0m\n\u001b[1;32m    580\u001b[0m             \u001b[0;32mif\u001b[0m \u001b[0;32mnot\u001b[0m \u001b[0msignaled\u001b[0m\u001b[0;34m:\u001b[0m\u001b[0;34m\u001b[0m\u001b[0;34m\u001b[0m\u001b[0m\n\u001b[0;32m--> 581\u001b[0;31m                 \u001b[0msignaled\u001b[0m \u001b[0;34m=\u001b[0m \u001b[0mself\u001b[0m\u001b[0;34m.\u001b[0m\u001b[0m_cond\u001b[0m\u001b[0;34m.\u001b[0m\u001b[0mwait\u001b[0m\u001b[0;34m(\u001b[0m\u001b[0mtimeout\u001b[0m\u001b[0;34m)\u001b[0m\u001b[0;34m\u001b[0m\u001b[0;34m\u001b[0m\u001b[0m\n\u001b[0m\u001b[1;32m    582\u001b[0m             \u001b[0;32mreturn\u001b[0m \u001b[0msignaled\u001b[0m\u001b[0;34m\u001b[0m\u001b[0;34m\u001b[0m\u001b[0m\n\u001b[1;32m    583\u001b[0m \u001b[0;34m\u001b[0m\u001b[0m\n",
      "\u001b[0;32m~/opt/anaconda3/lib/python3.9/threading.py\u001b[0m in \u001b[0;36mwait\u001b[0;34m(self, timeout)\u001b[0m\n\u001b[1;32m    314\u001b[0m             \u001b[0;32melse\u001b[0m\u001b[0;34m:\u001b[0m\u001b[0;34m\u001b[0m\u001b[0;34m\u001b[0m\u001b[0m\n\u001b[1;32m    315\u001b[0m                 \u001b[0;32mif\u001b[0m \u001b[0mtimeout\u001b[0m \u001b[0;34m>\u001b[0m \u001b[0;36m0\u001b[0m\u001b[0;34m:\u001b[0m\u001b[0;34m\u001b[0m\u001b[0;34m\u001b[0m\u001b[0m\n\u001b[0;32m--> 316\u001b[0;31m                     \u001b[0mgotit\u001b[0m \u001b[0;34m=\u001b[0m \u001b[0mwaiter\u001b[0m\u001b[0;34m.\u001b[0m\u001b[0macquire\u001b[0m\u001b[0;34m(\u001b[0m\u001b[0;32mTrue\u001b[0m\u001b[0;34m,\u001b[0m \u001b[0mtimeout\u001b[0m\u001b[0;34m)\u001b[0m\u001b[0;34m\u001b[0m\u001b[0;34m\u001b[0m\u001b[0m\n\u001b[0m\u001b[1;32m    317\u001b[0m                 \u001b[0;32melse\u001b[0m\u001b[0;34m:\u001b[0m\u001b[0;34m\u001b[0m\u001b[0;34m\u001b[0m\u001b[0m\n\u001b[1;32m    318\u001b[0m                     \u001b[0mgotit\u001b[0m \u001b[0;34m=\u001b[0m \u001b[0mwaiter\u001b[0m\u001b[0;34m.\u001b[0m\u001b[0macquire\u001b[0m\u001b[0;34m(\u001b[0m\u001b[0;32mFalse\u001b[0m\u001b[0;34m)\u001b[0m\u001b[0;34m\u001b[0m\u001b[0;34m\u001b[0m\u001b[0m\n",
      "\u001b[0;31mKeyboardInterrupt\u001b[0m: "
     ]
    }
   ],
   "source": [
    "for count, i in enumerate(consumer):\n",
    "    with s3.open(\"s3://kafka-stock-market-data-set/stock_market_{}.json\".format(count), \"w\") as file:json.dump(i.value, file)"
   ]
  },
  {
   "cell_type": "code",
   "execution_count": null,
   "id": "4c1412f4",
   "metadata": {},
   "outputs": [],
   "source": []
  }
 ],
 "metadata": {
  "kernelspec": {
   "display_name": "Python 3 (ipykernel)",
   "language": "python",
   "name": "python3"
  },
  "language_info": {
   "codemirror_mode": {
    "name": "ipython",
    "version": 3
   },
   "file_extension": ".py",
   "mimetype": "text/x-python",
   "name": "python",
   "nbconvert_exporter": "python",
   "pygments_lexer": "ipython3",
   "version": "3.9.13"
  }
 },
 "nbformat": 4,
 "nbformat_minor": 5
}
